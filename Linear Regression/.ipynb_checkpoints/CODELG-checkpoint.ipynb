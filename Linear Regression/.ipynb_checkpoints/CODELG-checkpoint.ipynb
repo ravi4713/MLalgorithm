{
 "cells": [
  {
   "cell_type": "code",
   "execution_count": 1,
   "id": "94b145b5",
   "metadata": {},
   "outputs": [],
   "source": [
    "import numpy as np"
   ]
  },
  {
   "cell_type": "code",
   "execution_count": 8,
   "id": "0e89c131",
   "metadata": {},
   "outputs": [],
   "source": [
    "def Fit(x, y):\n",
    "    \n",
    "    m_num = (x*y).mean()- x.mean()*y.mean()\n",
    "    m_dem = (x*x).mean()- x.mean()*x.mean()\n",
    "    \n",
    "    m = m_num/m_dem\n",
    "    \n",
    "    c = y.mean()- m * x.mean()\n",
    "    return m, c"
   ]
  },
  {
   "cell_type": "code",
   "execution_count": 9,
   "id": "a9b9e8f0",
   "metadata": {},
   "outputs": [],
   "source": [
    "def Predict(x, m, c):\n",
    "    \n",
    "    return x*m + c"
   ]
  },
  {
   "cell_type": "code",
   "execution_count": 12,
   "id": "6570dbe4",
   "metadata": {},
   "outputs": [],
   "source": [
    "def CD(y, yt):\n",
    "    \n",
    "    u = np.sum(np.square(yt - y))\n",
    "    v = np.sum(np.square(yt- yt.mean()))\n",
    "    return 1-u/v"
   ]
  },
  {
   "cell_type": "code",
   "execution_count": 13,
   "id": "c717762f",
   "metadata": {},
   "outputs": [],
   "source": [
    "def Cost(y, yth):\n",
    "    \n",
    "    \n",
    "    return np.sum(np.square(y-yth))"
   ]
  },
  {
   "cell_type": "code",
   "execution_count": 14,
   "id": "160f65d7",
   "metadata": {},
   "outputs": [],
   "source": [
    "data = np.loadtxt('../Data/data.csv', delimiter=',')"
   ]
  },
  {
   "cell_type": "code",
   "execution_count": 15,
   "id": "a41f7f74",
   "metadata": {},
   "outputs": [],
   "source": [
    "x = data[:,0]\n",
    "y = data[:, 1]"
   ]
  },
  {
   "cell_type": "code",
   "execution_count": 16,
   "id": "4a9d95e5",
   "metadata": {},
   "outputs": [
    {
     "data": {
      "text/plain": [
       "((100,), (100,))"
      ]
     },
     "execution_count": 16,
     "metadata": {},
     "output_type": "execute_result"
    }
   ],
   "source": [
    "x.shape, y.shape"
   ]
  },
  {
   "cell_type": "code",
   "execution_count": 18,
   "id": "adba0b87",
   "metadata": {},
   "outputs": [],
   "source": [
    "m,c = Fit(x, y)"
   ]
  },
  {
   "cell_type": "code",
   "execution_count": 19,
   "id": "148dedb1",
   "metadata": {},
   "outputs": [
    {
     "data": {
      "text/plain": [
       "(100,)"
      ]
     },
     "execution_count": 19,
     "metadata": {},
     "output_type": "execute_result"
    }
   ],
   "source": [
    "ypred = Predict(x, m, c)\n",
    "ypred.shape"
   ]
  },
  {
   "cell_type": "code",
   "execution_count": 29,
   "id": "24f87305",
   "metadata": {},
   "outputs": [
    {
     "data": {
      "text/plain": [
       "0.598655791538662"
      ]
     },
     "execution_count": 29,
     "metadata": {},
     "output_type": "execute_result"
    }
   ],
   "source": [
    "CD(ypred, y)"
   ]
  },
  {
   "cell_type": "code",
   "execution_count": 30,
   "id": "3a8db27c",
   "metadata": {},
   "outputs": [
    {
     "data": {
      "text/plain": [
       "11025.738346621316"
      ]
     },
     "execution_count": 30,
     "metadata": {},
     "output_type": "execute_result"
    }
   ],
   "source": [
    "Cost(ypred, y)"
   ]
  },
  {
   "cell_type": "code",
   "execution_count": 27,
   "id": "2f4d12ea",
   "metadata": {},
   "outputs": [
    {
     "data": {
      "image/png": "[encoded data removed]",
      "text/plain": [
       "<Figure size 432x288 with 1 Axes>"
      ]
     },
     "metadata": {
      "needs_background": "light"
     },
     "output_type": "display_data"
    }
   ],
   "source": [
    "import matplotlib.pyplot as plt\n",
    "\n",
    "\n",
    "plt.plot(np.arange(30,80,0.2),np.arange(30, 80, 0.2)*m+c, c='r')\n",
    "plt.scatter(x, y, c='b')\n",
    "plt.scatter(x, ypred, c='y')\n",
    "plt.show()"
   ]
  },
  {
   "cell_type": "code",
   "execution_count": 31,
   "id": "8d4cf87f",
   "metadata": {},
   "outputs": [],
   "source": [
    "from sklearn.linear_model import LinearRegression"
   ]
  },
  {
   "cell_type": "code",
   "execution_count": 32,
   "id": "59c26ce0",
   "metadata": {},
   "outputs": [
    {
     "data": {
      "text/plain": [
       "LinearRegression()"
      ]
     },
     "execution_count": 32,
     "metadata": {},
     "output_type": "execute_result"
    }
   ],
   "source": [
    "alg = LinearRegression()\n",
    "alg.fit(x.reshape(-1,1), y)"
   ]
  },
  {
   "cell_type": "code",
   "execution_count": 34,
   "id": "0ff878fd",
   "metadata": {},
   "outputs": [],
   "source": [
    "ypred_ = alg.predict(x.reshape(-1,1))"
   ]
  },
  {
   "cell_type": "code",
   "execution_count": 35,
   "id": "871fb589",
   "metadata": {},
   "outputs": [
    {
     "data": {
      "text/plain": [
       "0.598655791538662"
      ]
     },
     "execution_count": 35,
     "metadata": {},
     "output_type": "execute_result"
    }
   ],
   "source": [
    "alg.score(x.reshape(-1,1), y)"
   ]
  },
  {
   "cell_type": "code",
   "execution_count": 36,
   "id": "765ef5dc",
   "metadata": {},
   "outputs": [
    {
     "data": {
      "image/png": "[encoded data removed]",
      "text/plain": [
       "<Figure size 432x288 with 1 Axes>"
      ]
     },
     "metadata": {
      "needs_background": "light"
     },
     "output_type": "display_data"
    }
   ],
   "source": [
    "import matplotlib.pyplot as plt\n",
    "\n",
    "m_ = alg.coef_[0]\n",
    "c_ = alg.intercept_\n",
    "\n",
    "plt.plot(np.arange(30,80,0.2),np.arange(30, 80, 0.2)*m_+c_, c='r')\n",
    "plt.scatter(x, y, c='b')\n",
    "plt.scatter(x, ypred_, c='y')\n",
    "plt.show()"
   ]
  },
  {
   "cell_type": "markdown",
   "id": "3a95ddef",
   "metadata": {},
   "source": [
    "## Linear Regression for 1 variable"
   ]
  }
 ],
 "metadata": {
  "kernelspec": {
   "display_name": "Python 3",
   "language": "python",
   "name": "python3"
  },
  "language_info": {
   "codemirror_mode": {
    "name": "ipython",
    "version": 3
   },
   "file_extension": ".py",
   "mimetype": "text/x-python",
   "name": "python",
   "nbconvert_exporter": "python",
   "pygments_lexer": "ipython3",
   "version": "3.8.8"
  }
 },
 "nbformat": 4,
 "nbformat_minor": 5
}
