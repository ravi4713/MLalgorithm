{
 "cells": [
  {
   "cell_type": "code",
   "execution_count": 1,
   "id": "66176cb0",
   "metadata": {},
   "outputs": [],
   "source": [
    "import numpy as np"
   ]
  },
  {
   "cell_type": "code",
   "execution_count": 2,
   "id": "4ff4d253",
   "metadata": {},
   "outputs": [],
   "source": [
    "data = np.loadtxt('../Data/data.csv', delimiter=',')"
   ]
  },
  {
   "cell_type": "code",
   "execution_count": 6,
   "id": "b177fcec",
   "metadata": {},
   "outputs": [],
   "source": [
    "x = data[:, 0].reshape(-1, 1)\n",
    "y = data[:, 1]\n"
   ]
  },
  {
   "cell_type": "code",
   "execution_count": 17,
   "id": "e57d8b4a",
   "metadata": {},
   "outputs": [],
   "source": [
    "x_new = np.append(x, (x*x).reshape(-1,1), axis=1)"
   ]
  },
  {
   "cell_type": "code",
   "execution_count": 18,
   "id": "059b5561",
   "metadata": {},
   "outputs": [],
   "source": [
    "from sklearn.model_selection import train_test_split"
   ]
  },
  {
   "cell_type": "code",
   "execution_count": 19,
   "id": "57d953e8",
   "metadata": {},
   "outputs": [],
   "source": [
    "x_train, x_test, y_train, y_test = train_test_split(x, y, random_state=2)\n",
    "x_train_, x_test_, y_train_, y_test_ = train_test_split(x_new, y, random_state=2)\n"
   ]
  },
  {
   "cell_type": "code",
   "execution_count": 20,
   "id": "3dea8107",
   "metadata": {},
   "outputs": [],
   "source": [
    "from sklearn.linear_model import LinearRegression"
   ]
  },
  {
   "cell_type": "code",
   "execution_count": 23,
   "id": "8c65f115",
   "metadata": {},
   "outputs": [
    {
     "data": {
      "text/plain": [
       "LinearRegression()"
      ]
     },
     "execution_count": 23,
     "metadata": {},
     "output_type": "execute_result"
    }
   ],
   "source": [
    "lg = LinearRegression()\n",
    "lg.fit(x_train, y_train)"
   ]
  },
  {
   "cell_type": "code",
   "execution_count": 22,
   "id": "7180fd40",
   "metadata": {},
   "outputs": [
    {
     "data": {
      "text/plain": [
       "LinearRegression()"
      ]
     },
     "execution_count": 22,
     "metadata": {},
     "output_type": "execute_result"
    }
   ],
   "source": [
    "lg1 = LinearRegression()\n",
    "lg1.fit(x_train_, y_train_)"
   ]
  },
  {
   "cell_type": "code",
   "execution_count": 24,
   "id": "1cd6549e",
   "metadata": {},
   "outputs": [
    {
     "name": "stdout",
     "output_type": "stream",
     "text": [
      "Score of training data is  0.5887737530833476 0.5896271788903155\n",
      "Score of Testing data is  0.573735458939733 0.5820384760879559\n"
     ]
    }
   ],
   "source": [
    "print(\"Score of training data is \", lg.score(x_train, y_train), lg1.score(x_train_, y_train_))\n",
    "print(\"Score of Testing data is \", lg.score(x_test, y_test), lg1.score(x_test_, y_test_))"
   ]
  },
  {
   "cell_type": "markdown",
   "id": "09cf479d",
   "metadata": {},
   "source": [
    "### after adding new column's in some case our training score will increase but testing score might decrease as we try to overfit our data "
   ]
  },
  {
   "cell_type": "code",
   "execution_count": null,
   "id": "b92d6be7",
   "metadata": {},
   "outputs": [],
   "source": []
  }
 ],
 "metadata": {
  "kernelspec": {
   "display_name": "Python 3",
   "language": "python",
   "name": "python3"
  },
  "language_info": {
   "codemirror_mode": {
    "name": "ipython",
    "version": 3
   },
   "file_extension": ".py",
   "mimetype": "text/x-python",
   "name": "python",
   "nbconvert_exporter": "python",
   "pygments_lexer": "ipython3",
   "version": "3.8.8"
  }
 },
 "nbformat": 4,
 "nbformat_minor": 5
}
